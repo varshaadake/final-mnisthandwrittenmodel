{
 "cells": [
  {
   "cell_type": "code",
   "execution_count": 1,
   "id": "c6fd08a6",
   "metadata": {},
   "outputs": [],
   "source": [
    "import pandas as pd\n",
    "import numpy as np"
   ]
  },
  {
   "cell_type": "code",
   "execution_count": 2,
   "id": "fbe4eb04",
   "metadata": {},
   "outputs": [],
   "source": [
    "df=pd.read_csv(\"../pivotech project/train.csv\")"
   ]
  },
  {
   "cell_type": "code",
   "execution_count": 3,
   "id": "f03b5f1e",
   "metadata": {},
   "outputs": [
    {
     "data": {
      "text/plain": [
       "(42000, 785)"
      ]
     },
     "execution_count": 3,
     "metadata": {},
     "output_type": "execute_result"
    }
   ],
   "source": [
    "df.shape"
   ]
  },
  {
   "cell_type": "code",
   "execution_count": 4,
   "id": "1ae46802",
   "metadata": {},
   "outputs": [],
   "source": [
    "X = df.drop('label',axis=1)\n",
    "y = df['label']"
   ]
  },
  {
   "cell_type": "code",
   "execution_count": 5,
   "id": "e2e4e97f",
   "metadata": {},
   "outputs": [
    {
     "data": {
      "text/plain": [
       "(42000, 784)"
      ]
     },
     "execution_count": 5,
     "metadata": {},
     "output_type": "execute_result"
    }
   ],
   "source": [
    "X.shape"
   ]
  },
  {
   "cell_type": "code",
   "execution_count": 6,
   "id": "89d7cdc6",
   "metadata": {},
   "outputs": [],
   "source": [
    "X=X.values.reshape(42000,28,28,1)\n",
    "X=X/255"
   ]
  },
  {
   "cell_type": "code",
   "execution_count": 7,
   "id": "0b0d706b",
   "metadata": {},
   "outputs": [],
   "source": [
    "from tensorflow.keras.utils import to_categorical"
   ]
  },
  {
   "cell_type": "code",
   "execution_count": 8,
   "id": "45a25d5e",
   "metadata": {},
   "outputs": [
    {
     "data": {
      "text/plain": [
       "(42000, 10)"
      ]
     },
     "execution_count": 8,
     "metadata": {},
     "output_type": "execute_result"
    }
   ],
   "source": [
    "y=to_categorical(y,num_classes=10)\n",
    "y.shape"
   ]
  },
  {
   "cell_type": "markdown",
   "id": "9a30abba",
   "metadata": {},
   "source": [
    "# Model Building"
   ]
  },
  {
   "cell_type": "code",
   "execution_count": 9,
   "id": "408058e0",
   "metadata": {},
   "outputs": [],
   "source": [
    "from tensorflow.keras.layers import Dense,Conv2D,MaxPool2D,Flatten\n",
    "from tensorflow.keras.models import Sequential"
   ]
  },
  {
   "cell_type": "code",
   "execution_count": 10,
   "id": "f0ff5c8a",
   "metadata": {},
   "outputs": [],
   "source": [
    "model = Sequential()\n",
    "model.add(Conv2D(16,(3,3),activation='relu', input_shape=(28,28,1)))\n",
    "model.add(MaxPool2D())\n",
    "model.add(Conv2D(32,(3,3),activation='relu'))\n",
    "model.add(MaxPool2D())\n",
    "model.add(Flatten())\n",
    "model.add(Dense(10, activation='softmax'))\n",
    "\n",
    "model.compile(loss='categorical_crossentropy', metrics=['accuracy'], optimizer='adam')"
   ]
  },
  {
   "cell_type": "code",
   "execution_count": 11,
   "id": "2f2fb30e",
   "metadata": {},
   "outputs": [
    {
     "name": "stdout",
     "output_type": "stream",
     "text": [
      "Model: \"sequential\"\n",
      "_________________________________________________________________\n",
      " Layer (type)                Output Shape              Param #   \n",
      "=================================================================\n",
      " conv2d (Conv2D)             (None, 26, 26, 16)        160       \n",
      "                                                                 \n",
      " max_pooling2d (MaxPooling2D  (None, 13, 13, 16)       0         \n",
      " )                                                               \n",
      "                                                                 \n",
      " conv2d_1 (Conv2D)           (None, 11, 11, 32)        4640      \n",
      "                                                                 \n",
      " max_pooling2d_1 (MaxPooling  (None, 5, 5, 32)         0         \n",
      " 2D)                                                             \n",
      "                                                                 \n",
      " flatten (Flatten)           (None, 800)               0         \n",
      "                                                                 \n",
      " dense (Dense)               (None, 10)                8010      \n",
      "                                                                 \n",
      "=================================================================\n",
      "Total params: 12,810\n",
      "Trainable params: 12,810\n",
      "Non-trainable params: 0\n",
      "_________________________________________________________________\n"
     ]
    }
   ],
   "source": [
    "model.summary()"
   ]
  },
  {
   "cell_type": "code",
   "execution_count": 12,
   "id": "2c15ac50",
   "metadata": {},
   "outputs": [
    {
     "name": "stdout",
     "output_type": "stream",
     "text": [
      "Epoch 1/20\n",
      "657/657 [==============================] - 10s 14ms/step - loss: 0.3077 - accuracy: 0.9121\n",
      "Epoch 2/20\n",
      "657/657 [==============================] - 8s 13ms/step - loss: 0.0897 - accuracy: 0.9728\n",
      "Epoch 3/20\n",
      "657/657 [==============================] - 8s 12ms/step - loss: 0.0681 - accuracy: 0.9780\n",
      "Epoch 4/20\n",
      "657/657 [==============================] - 8s 13ms/step - loss: 0.0553 - accuracy: 0.9830\n",
      "Epoch 5/20\n",
      "657/657 [==============================] - 9s 14ms/step - loss: 0.0478 - accuracy: 0.9852\n",
      "Epoch 6/20\n",
      "657/657 [==============================] - 10s 15ms/step - loss: 0.0413 - accuracy: 0.9873\n",
      "Epoch 7/20\n",
      "657/657 [==============================] - 8s 12ms/step - loss: 0.0374 - accuracy: 0.9880\n",
      "Epoch 8/20\n",
      "657/657 [==============================] - 8s 12ms/step - loss: 0.0330 - accuracy: 0.9897\n",
      "Epoch 9/20\n",
      "657/657 [==============================] - 8s 12ms/step - loss: 0.0299 - accuracy: 0.9906\n",
      "Epoch 10/20\n",
      "657/657 [==============================] - 8s 12ms/step - loss: 0.0270 - accuracy: 0.9912\n",
      "Epoch 11/20\n",
      "657/657 [==============================] - 8s 12ms/step - loss: 0.0244 - accuracy: 0.9925\n",
      "Epoch 12/20\n",
      "657/657 [==============================] - 8s 11ms/step - loss: 0.0208 - accuracy: 0.9933\n",
      "Epoch 13/20\n",
      "657/657 [==============================] - 8s 12ms/step - loss: 0.0200 - accuracy: 0.9936\n",
      "Epoch 14/20\n",
      "657/657 [==============================] - 8s 12ms/step - loss: 0.0190 - accuracy: 0.9936\n",
      "Epoch 15/20\n",
      "657/657 [==============================] - 9s 13ms/step - loss: 0.0152 - accuracy: 0.9953\n",
      "Epoch 16/20\n",
      "657/657 [==============================] - 8s 12ms/step - loss: 0.0134 - accuracy: 0.9958\n",
      "Epoch 17/20\n",
      "657/657 [==============================] - 8s 12ms/step - loss: 0.0125 - accuracy: 0.9961\n",
      "Epoch 18/20\n",
      "657/657 [==============================] - 8s 12ms/step - loss: 0.0104 - accuracy: 0.9971\n",
      "Epoch 19/20\n",
      "657/657 [==============================] - 8s 12ms/step - loss: 0.0107 - accuracy: 0.9966\n",
      "Epoch 20/20\n",
      "657/657 [==============================] - 8s 12ms/step - loss: 0.0105 - accuracy: 0.9965\n"
     ]
    },
    {
     "data": {
      "text/plain": [
       "<keras.callbacks.History at 0x1dcd1f5b550>"
      ]
     },
     "execution_count": 12,
     "metadata": {},
     "output_type": "execute_result"
    }
   ],
   "source": [
    "model.fit(X,y,batch_size=64,epochs=20)"
   ]
  },
  {
   "cell_type": "code",
   "execution_count": 13,
   "id": "038ab32b",
   "metadata": {},
   "outputs": [],
   "source": [
    "model.save(\"handdigit.h5\")"
   ]
  },
  {
   "cell_type": "code",
   "execution_count": 14,
   "id": "3684787b",
   "metadata": {},
   "outputs": [],
   "source": [
    "from keras.models import load_model"
   ]
  },
  {
   "cell_type": "code",
   "execution_count": 15,
   "id": "3fb68d20",
   "metadata": {},
   "outputs": [],
   "source": [
    "model=load_model(\"handdigit.h5\")"
   ]
  },
  {
   "cell_type": "code",
   "execution_count": 18,
   "id": "d681bab8",
   "metadata": {},
   "outputs": [
    {
     "name": "stdout",
     "output_type": "stream",
     "text": [
      "Test loss: 0.008030177094042301\n",
      "Test accuracy: 0.9975952506065369\n"
     ]
    }
   ],
   "source": [
    "score = model.evaluate(X, y, verbose=0)\n",
    "print('Test loss:', score[0])\n",
    "print('Test accuracy:', score[1])"
   ]
  }
 ],
 "metadata": {
  "kernelspec": {
   "display_name": "Python [conda env:tf_env_16]",
   "language": "python",
   "name": "conda-env-tf_env_16-py"
  },
  "language_info": {
   "codemirror_mode": {
    "name": "ipython",
    "version": 3
   },
   "file_extension": ".py",
   "mimetype": "text/x-python",
   "name": "python",
   "nbconvert_exporter": "python",
   "pygments_lexer": "ipython3",
   "version": "3.8.13"
  }
 },
 "nbformat": 4,
 "nbformat_minor": 5
}
